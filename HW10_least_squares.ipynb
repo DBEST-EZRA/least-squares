{
  "nbformat": 4,
  "nbformat_minor": 0,
  "metadata": {
    "colab": {
      "provenance": []
    },
    "kernelspec": {
      "name": "python3",
      "display_name": "Python 3"
    },
    "language_info": {
      "name": "python"
    }
  },
  "cells": [
    {
      "cell_type": "markdown",
      "source": [
        "**Problem 1: Least squares approximation**"
      ],
      "metadata": {
        "id": "MHdvwybQsr6r"
      }
    },
    {
      "cell_type": "code",
      "source": [
        "import numpy as np\n",
        "import matplotlib.pyplot as plt"
      ],
      "metadata": {
        "id": "uPXBS8rxpNZT"
      },
      "execution_count": 1,
      "outputs": []
    },
    {
      "cell_type": "markdown",
      "source": [
        "**1.1** Solver linear system based on QR factorization"
      ],
      "metadata": {
        "id": "9WSiXw4nsulM"
      }
    },
    {
      "cell_type": "code",
      "execution_count": 2,
      "metadata": {
        "id": "ZN7jOcomrqXS",
        "colab": {
          "base_uri": "https://localhost:8080/"
        },
        "outputId": "9358bcf2-95e2-46a7-9d81-f07ad62b69a9"
      },
      "outputs": [
        {
          "output_type": "stream",
          "name": "stdout",
          "text": [
            "The relative error:\n",
            "1.7212772193927522e-13\n"
          ]
        }
      ],
      "source": [
        "# fix  seed  for  reproducible  result. Please  do not  change  the  seed\n",
        "np.random.seed(2022)\n",
        "A = np.random.randn(20, 20)\n",
        "x = np.random.randn(20,1)\n",
        "b = A@x\n",
        "\n",
        "\n",
        "def QR(A): # please directly copy QR function from HW 9 here.\n",
        "  #################### YOUR CODE STARTS HERE #################################\n",
        "  m, n = A.shape\n",
        "  Q = np.zeros_like(A, dtype=np.float64)\n",
        "  R = np.zeros((n, n), dtype=np.float64)\n",
        "  for j in range(n):\n",
        "    v = A[:, j]\n",
        "    for i in range(j):\n",
        "      R[i, j] = np.dot(Q[:, i], A[:, j])\n",
        "      v = v - R[i, j] * Q[:, i]\n",
        "    R[j, j] = np.linalg.norm(v)\n",
        "    Q[:, j] = v / R[j, j]\n",
        "\n",
        "  #############################################################################\n",
        "  return Q, R\n",
        "\n",
        "\n",
        "\n",
        "def backSubstitute(R, b_Q):\n",
        "  ####################### YOUR CODE STARTS HERE ###############################\n",
        "  n = R.shape[0]\n",
        "  x = np.zeros((n, 1))\n",
        "\n",
        "  for i in range(n - 1, -1, -1):\n",
        "    x[i] = (b_Q[i] - np.dot(R[i, i+1:], x[i+1:].flatten())) / R[i, i]\n",
        "\n",
        "\n",
        "\n",
        "\n",
        "  #############################################################################\n",
        "  return x\n",
        "\n",
        "\n",
        "def mySolver(A, b):\n",
        "  Q, R = QR(A)\n",
        "  b_Q = Q.T@b\n",
        "  x = backSubstitute(R, b_Q)\n",
        "  return x\n",
        "\n",
        "def relative_diff(x, x_hat):\n",
        "  ######################### YOUR CODE STARTS HERE ##############################\n",
        "  #err =  # Please use formula(23)\n",
        "  err = np.linalg.norm(x - x_hat) / np.linalg.norm(x)\n",
        "  ##############################################################################\n",
        "  return err\n",
        "\n",
        "x_hat = mySolver(A, b)\n",
        "print(\"The relative error:\")\n",
        "print(relative_diff(x, x_hat))"
      ]
    },
    {
      "cell_type": "markdown",
      "source": [
        "**1.2** Data fitting by univariate linear regression"
      ],
      "metadata": {
        "id": "uPEBBOQfwyid"
      }
    },
    {
      "cell_type": "code",
      "source": [
        "b_consumption = np.array([\n",
        "        63122, 60953, 59551, 58785, 59795, 60083, 61819, 63107, 64978, 66090,\n",
        "        66541, 67186, 67396, 67619, 69006, 70258, 71880, 73597, 74274, 75975,\n",
        "        76928, 77732, 78457, 80089, 83063, 84558, 85566, 86724, 86046, 84972,\n",
        "        88157, 89105, 90340, 91195 ], dtype=np.float64)\n",
        "\n",
        "n = len(b_consumption)\n",
        "############################# YOUR CODE STARTS HERE #######################\n",
        "# year =\n",
        "year = np.arange(1980, 2014).reshape(-1, 1)\n",
        "#A_consumption =  # Generate the matrix A according to formula (9)\n",
        "#    Hint: numpy.vstack, numpy.hstack, and numpy.ones may be useful for you;\n",
        "#          check numpy doc (particularly their examples) to see how to use them\n",
        "A_consumption = np.hstack((year, np.ones((n, 1))))\n",
        "#x_hat_consumption  = mySolver(A_consumption,b_consumption)\n",
        "x_hat_consumption = mySolver(A_consumption, b_consumption)\n",
        "###########################################################################\n",
        "\n",
        "# plot the line fitting\n",
        "plt.figure()\n",
        "plt.scatter(np.arange(1980,2014), b_consumption)\n",
        "plt.plot(np.arange(1980,2014), A_consumption @ x_hat_consumption, 'r')\n",
        "plt.show()"
      ],
      "metadata": {
        "id": "Mwxkn8_iw7a5",
        "colab": {
          "base_uri": "https://localhost:8080/",
          "height": 430
        },
        "outputId": "c45fd059-0330-46d9-88ea-493287c5e59e"
      },
      "execution_count": 4,
      "outputs": [
        {
          "output_type": "display_data",
          "data": {
            "text/plain": [
              "<Figure size 640x480 with 1 Axes>"
            ],
            "image/png": "[encoded data removed]"
          },
          "metadata": {}
        }
      ]
    },
    {
      "cell_type": "markdown",
      "source": [
        "**1.3** (Extra-credit) Data fitting with multiple features"
      ],
      "metadata": {
        "id": "KDKk8SV4njWv"
      }
    },
    {
      "cell_type": "code",
      "source": [
        "import House_Sales_Data\n",
        "\n",
        "D = House_Sales_Data.house_sales_data()\n",
        "beds = np.array(D['beds']).reshape([-1,1])\n",
        "sizes = np.array(D['area']).reshape([-1,1])\n",
        "prices = np.array(D['price']).reshape([-1,1])\n",
        "n_houses = prices.shape[0]\n",
        "\n",
        "############################# YOUR CODE STARTS HERE #######################\n",
        "# A_houses =  # Generate the matrix A according to formula (9)\n",
        "#    Hint: numpy.vstack, numpy.hstack, and numpy.zeros may be useful for you;\n",
        "#          check numpy doc (particularly their examples) to see how to use them\n",
        "A_houses = np.hstack((beds, sizes, np.ones((n_houses, 1))))\n",
        "# x_hat_houses  =  # find x_hat_houses using the mySolver function an\n",
        "x_hat_houses = mySolver(A_houses, prices)\n",
        "# avg_diff =  # compute the average difference between your predicted prices and the actual prices\n",
        "predicted_prices = A_houses @ x_hat_houses\n",
        "avg_diff = np.mean(np.abs(prices - predicted_prices))\n",
        "###########################################################################\n",
        "\n",
        "print(f\"Value of x_hat for house data:\\n {x_hat_houses}\\n\")\n",
        "print(f\"Value of x_hat for house data:\\n {x_hat_houses}\\n\")\n",
        "print(f\"Average price difference: {avg_diff:.2f}\")\n",
        "print(f\"Average price difference relative to the average housing prices (should be less than 30%):\")\n",
        "print(f\"{avg_diff/np.average(prices)*100:.2f}%\")"
      ],
      "metadata": {
        "id": "L_7S9UQSnqR4",
        "colab": {
          "base_uri": "https://localhost:8080/"
        },
        "outputId": "cbff1692-ef12-45d2-c092-84b5c2ba9d55"
      },
      "execution_count": 5,
      "outputs": [
        {
          "output_type": "stream",
          "name": "stdout",
          "text": [
            "Value of x_hat for house data:\n",
            " [[-18.85335788]\n",
            " [148.7250726 ]\n",
            " [ 54.4016736 ]]\n",
            "\n",
            "Value of x_hat for house data:\n",
            " [[-18.85335788]\n",
            " [148.7250726 ]\n",
            " [ 54.4016736 ]]\n",
            "\n",
            "Average price difference: 55.58\n",
            "Average price difference relative to the average housing prices (should be less than 30%):\n",
            "24.29%\n"
          ]
        }
      ]
    },
    {
      "cell_type": "code",
      "source": [],
      "metadata": {
        "id": "5Qp2vl7rpFMZ"
      },
      "execution_count": null,
      "outputs": []
    }
  ]
}